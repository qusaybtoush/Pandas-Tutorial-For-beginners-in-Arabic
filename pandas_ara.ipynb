{
 "cells": [
  {
   "cell_type": "markdown",
   "id": "compatible-consideration",
   "metadata": {},
   "source": [
    "# pandas / بانداس\n",
    "##### للمبتدئين"
   ]
  },
  {
   "cell_type": "markdown",
   "id": "coordinate-apollo",
   "metadata": {},
   "source": [
    "مكتبة بانداس\n",
    "هي مكتبة برمجية مشهورة في لغة برمجة بايثون، وهي متخصصة في التعامل مع البيانات المنظمة والتحليلية. قوة هياكل بيانات ووظائف تسهل العمل مع بيانات منظمة في صورة جداول وسلاسل. لقد تقدم بانداس على نطاق واسع في مجالات مثل علم البيانات وتحليل النتائج والبرمجة العلمية."
   ]
  },
  {
   "cell_type": "markdown",
   "id": "meaningful-sister",
   "metadata": {},
   "source": [
    "#### Qusay AL-Btoush\n",
    "\n",
    "* [https://github.com/qusaybtoush](http://)\n",
    "* [https://www.linkedin.com/in/qusayal-btoush/](http://)\n",
    "* [https://www.kaggle.com/qusaybtoush1990](http://)\n"
   ]
  },
  {
   "cell_type": "code",
   "execution_count": 17,
   "id": "informational-reason",
   "metadata": {},
   "outputs": [],
   "source": [
    "# تحميل مكتبه بانداس\n",
    "import pandas as pd"
   ]
  },
  {
   "cell_type": "code",
   "execution_count": 16,
   "id": "homeless-overview",
   "metadata": {},
   "outputs": [],
   "source": [
    "#تعريف متغير باستخدام القاموس\n",
    "\n",
    "di= {\"Name\":[\"Ali\",\"Sahra\",\"Ahmad\",\"Mouhammed\",\"Ali\",\"Sahra\",\"Ali\"],\n",
    "    \"Age\":[ 7,8,14,20,7 ,6,11],\n",
    "     \"Mark\": [\"A\",\"A\",\"B\",\"A\",\"A\",\"D\",\"A\"]\n",
    "}"
   ]
  },
  {
   "cell_type": "code",
   "execution_count": 19,
   "id": "computational-courage",
   "metadata": {},
   "outputs": [
    {
     "data": {
      "text/html": [
       "<div>\n",
       "<style scoped>\n",
       "    .dataframe tbody tr th:only-of-type {\n",
       "        vertical-align: middle;\n",
       "    }\n",
       "\n",
       "    .dataframe tbody tr th {\n",
       "        vertical-align: top;\n",
       "    }\n",
       "\n",
       "    .dataframe thead th {\n",
       "        text-align: right;\n",
       "    }\n",
       "</style>\n",
       "<table border=\"1\" class=\"dataframe\">\n",
       "  <thead>\n",
       "    <tr style=\"text-align: right;\">\n",
       "      <th></th>\n",
       "      <th>Name</th>\n",
       "      <th>Age</th>\n",
       "      <th>Mark</th>\n",
       "    </tr>\n",
       "  </thead>\n",
       "  <tbody>\n",
       "    <tr>\n",
       "      <th>0</th>\n",
       "      <td>Ali</td>\n",
       "      <td>7</td>\n",
       "      <td>A</td>\n",
       "    </tr>\n",
       "    <tr>\n",
       "      <th>1</th>\n",
       "      <td>Sahra</td>\n",
       "      <td>8</td>\n",
       "      <td>A</td>\n",
       "    </tr>\n",
       "    <tr>\n",
       "      <th>2</th>\n",
       "      <td>Ahmad</td>\n",
       "      <td>14</td>\n",
       "      <td>B</td>\n",
       "    </tr>\n",
       "    <tr>\n",
       "      <th>3</th>\n",
       "      <td>Mouhammed</td>\n",
       "      <td>20</td>\n",
       "      <td>A</td>\n",
       "    </tr>\n",
       "    <tr>\n",
       "      <th>4</th>\n",
       "      <td>Ali</td>\n",
       "      <td>7</td>\n",
       "      <td>A</td>\n",
       "    </tr>\n",
       "    <tr>\n",
       "      <th>5</th>\n",
       "      <td>Sahra</td>\n",
       "      <td>6</td>\n",
       "      <td>D</td>\n",
       "    </tr>\n",
       "    <tr>\n",
       "      <th>6</th>\n",
       "      <td>Ali</td>\n",
       "      <td>11</td>\n",
       "      <td>A</td>\n",
       "    </tr>\n",
       "  </tbody>\n",
       "</table>\n",
       "</div>"
      ],
      "text/plain": [
       "        Name  Age Mark\n",
       "0        Ali    7    A\n",
       "1      Sahra    8    A\n",
       "2      Ahmad   14    B\n",
       "3  Mouhammed   20    A\n",
       "4        Ali    7    A\n",
       "5      Sahra    6    D\n",
       "6        Ali   11    A"
      ]
     },
     "execution_count": 19,
     "metadata": {},
     "output_type": "execute_result"
    }
   ],
   "source": [
    "# نستخدم فنكشن داتا فريم للتعريف الداتا واستخدام الداتا من القاموس\n",
    "\n",
    "df = pd.DataFrame(data=di)  # تم حفظ الداتا في متغير دي اف\n",
    "df # print"
   ]
  },
  {
   "cell_type": "code",
   "execution_count": 30,
   "id": "filled-collins",
   "metadata": {},
   "outputs": [
    {
     "data": {
      "text/html": [
       "<div>\n",
       "<style scoped>\n",
       "    .dataframe tbody tr th:only-of-type {\n",
       "        vertical-align: middle;\n",
       "    }\n",
       "\n",
       "    .dataframe tbody tr th {\n",
       "        vertical-align: top;\n",
       "    }\n",
       "\n",
       "    .dataframe thead th {\n",
       "        text-align: right;\n",
       "    }\n",
       "</style>\n",
       "<table border=\"1\" class=\"dataframe\">\n",
       "  <thead>\n",
       "    <tr style=\"text-align: right;\">\n",
       "      <th></th>\n",
       "      <th>Name</th>\n",
       "      <th>Age</th>\n",
       "    </tr>\n",
       "  </thead>\n",
       "  <tbody>\n",
       "    <tr>\n",
       "      <th>0</th>\n",
       "      <td>Ali</td>\n",
       "      <td>7</td>\n",
       "    </tr>\n",
       "    <tr>\n",
       "      <th>1</th>\n",
       "      <td>Sahra</td>\n",
       "      <td>8</td>\n",
       "    </tr>\n",
       "    <tr>\n",
       "      <th>2</th>\n",
       "      <td>Ahmad</td>\n",
       "      <td>14</td>\n",
       "    </tr>\n",
       "  </tbody>\n",
       "</table>\n",
       "</div>"
      ],
      "text/plain": [
       "    Name  Age\n",
       "0    Ali    7\n",
       "1  Sahra    8\n",
       "2  Ahmad   14"
      ]
     },
     "execution_count": 30,
     "metadata": {},
     "output_type": "execute_result"
    }
   ],
   "source": [
    "# استخدام  iloc or loc\n",
    "#iloc = استيطع هنا وضع رقم العامود ليس اسمه وطريقه تحديد العنصر , رمز الفاصله بين الصفوف و الاعمده اولا صفوف ثانيا اعمده \n",
    "# df.iloc[the rows from : to , than the number of column from : to]\n",
    "# صف من الى , العامود من الى\n",
    "df.iloc[0:3 , 0:2] # اول ثلاث صفوف و ثنين عامود"
   ]
  },
  {
   "cell_type": "code",
   "execution_count": 34,
   "id": "intended-alliance",
   "metadata": {},
   "outputs": [
    {
     "data": {
      "text/html": [
       "<div>\n",
       "<style scoped>\n",
       "    .dataframe tbody tr th:only-of-type {\n",
       "        vertical-align: middle;\n",
       "    }\n",
       "\n",
       "    .dataframe tbody tr th {\n",
       "        vertical-align: top;\n",
       "    }\n",
       "\n",
       "    .dataframe thead th {\n",
       "        text-align: right;\n",
       "    }\n",
       "</style>\n",
       "<table border=\"1\" class=\"dataframe\">\n",
       "  <thead>\n",
       "    <tr style=\"text-align: right;\">\n",
       "      <th></th>\n",
       "      <th>Name</th>\n",
       "      <th>Age</th>\n",
       "    </tr>\n",
       "  </thead>\n",
       "  <tbody>\n",
       "    <tr>\n",
       "      <th>0</th>\n",
       "      <td>Ali</td>\n",
       "      <td>7</td>\n",
       "    </tr>\n",
       "    <tr>\n",
       "      <th>1</th>\n",
       "      <td>Sahra</td>\n",
       "      <td>8</td>\n",
       "    </tr>\n",
       "    <tr>\n",
       "      <th>2</th>\n",
       "      <td>Ahmad</td>\n",
       "      <td>14</td>\n",
       "    </tr>\n",
       "    <tr>\n",
       "      <th>3</th>\n",
       "      <td>Mouhammed</td>\n",
       "      <td>20</td>\n",
       "    </tr>\n",
       "  </tbody>\n",
       "</table>\n",
       "</div>"
      ],
      "text/plain": [
       "        Name  Age\n",
       "0        Ali    7\n",
       "1      Sahra    8\n",
       "2      Ahmad   14\n",
       "3  Mouhammed   20"
      ]
     },
     "execution_count": 34,
     "metadata": {},
     "output_type": "execute_result"
    }
   ],
   "source": [
    "# هنا احدد اسم العامود \n",
    "df.loc[0:3,[\"Name\",\"Age\"]]"
   ]
  },
  {
   "cell_type": "code",
   "execution_count": 38,
   "id": "derived-suspect",
   "metadata": {},
   "outputs": [
    {
     "data": {
      "text/plain": [
       "20"
      ]
     },
     "execution_count": 38,
     "metadata": {},
     "output_type": "execute_result"
    }
   ],
   "source": [
    "# نحديد عنصر بناء على الموقع اندكس\n",
    "df.iloc[3,1]"
   ]
  },
  {
   "cell_type": "code",
   "execution_count": 39,
   "id": "ceramic-commodity",
   "metadata": {},
   "outputs": [
    {
     "data": {
      "text/html": [
       "<div>\n",
       "<style scoped>\n",
       "    .dataframe tbody tr th:only-of-type {\n",
       "        vertical-align: middle;\n",
       "    }\n",
       "\n",
       "    .dataframe tbody tr th {\n",
       "        vertical-align: top;\n",
       "    }\n",
       "\n",
       "    .dataframe thead th {\n",
       "        text-align: right;\n",
       "    }\n",
       "</style>\n",
       "<table border=\"1\" class=\"dataframe\">\n",
       "  <thead>\n",
       "    <tr style=\"text-align: right;\">\n",
       "      <th></th>\n",
       "      <th>Name</th>\n",
       "      <th>Age</th>\n",
       "      <th>Mark</th>\n",
       "    </tr>\n",
       "  </thead>\n",
       "  <tbody>\n",
       "    <tr>\n",
       "      <th>0</th>\n",
       "      <td>Ali</td>\n",
       "      <td>7</td>\n",
       "      <td>A</td>\n",
       "    </tr>\n",
       "    <tr>\n",
       "      <th>1</th>\n",
       "      <td>Sahra</td>\n",
       "      <td>8</td>\n",
       "      <td>A</td>\n",
       "    </tr>\n",
       "    <tr>\n",
       "      <th>2</th>\n",
       "      <td>Ahmad</td>\n",
       "      <td>14</td>\n",
       "      <td>B</td>\n",
       "    </tr>\n",
       "    <tr>\n",
       "      <th>3</th>\n",
       "      <td>Mouhammed</td>\n",
       "      <td>30</td>\n",
       "      <td>A</td>\n",
       "    </tr>\n",
       "    <tr>\n",
       "      <th>4</th>\n",
       "      <td>Ali</td>\n",
       "      <td>7</td>\n",
       "      <td>A</td>\n",
       "    </tr>\n",
       "    <tr>\n",
       "      <th>5</th>\n",
       "      <td>Sahra</td>\n",
       "      <td>6</td>\n",
       "      <td>D</td>\n",
       "    </tr>\n",
       "    <tr>\n",
       "      <th>6</th>\n",
       "      <td>Ali</td>\n",
       "      <td>11</td>\n",
       "      <td>A</td>\n",
       "    </tr>\n",
       "  </tbody>\n",
       "</table>\n",
       "</div>"
      ],
      "text/plain": [
       "        Name  Age Mark\n",
       "0        Ali    7    A\n",
       "1      Sahra    8    A\n",
       "2      Ahmad   14    B\n",
       "3  Mouhammed   30    A\n",
       "4        Ali    7    A\n",
       "5      Sahra    6    D\n",
       "6        Ali   11    A"
      ]
     },
     "execution_count": 39,
     "metadata": {},
     "output_type": "execute_result"
    }
   ],
   "source": [
    "# استطيع تغير القيمه في الداتا \n",
    "df.iloc[3,1] = 30\n",
    "df #print Data Frame"
   ]
  },
  {
   "cell_type": "code",
   "execution_count": 40,
   "id": "occasional-wrapping",
   "metadata": {},
   "outputs": [
    {
     "data": {
      "text/html": [
       "<div>\n",
       "<style scoped>\n",
       "    .dataframe tbody tr th:only-of-type {\n",
       "        vertical-align: middle;\n",
       "    }\n",
       "\n",
       "    .dataframe tbody tr th {\n",
       "        vertical-align: top;\n",
       "    }\n",
       "\n",
       "    .dataframe thead th {\n",
       "        text-align: right;\n",
       "    }\n",
       "</style>\n",
       "<table border=\"1\" class=\"dataframe\">\n",
       "  <thead>\n",
       "    <tr style=\"text-align: right;\">\n",
       "      <th></th>\n",
       "      <th>Name</th>\n",
       "      <th>Age</th>\n",
       "      <th>Mark</th>\n",
       "    </tr>\n",
       "  </thead>\n",
       "  <tbody>\n",
       "    <tr>\n",
       "      <th>0</th>\n",
       "      <td>Ali</td>\n",
       "      <td>7</td>\n",
       "      <td>A</td>\n",
       "    </tr>\n",
       "    <tr>\n",
       "      <th>1</th>\n",
       "      <td>Sahra</td>\n",
       "      <td>8</td>\n",
       "      <td>A</td>\n",
       "    </tr>\n",
       "    <tr>\n",
       "      <th>2</th>\n",
       "      <td>Ahmad</td>\n",
       "      <td>14</td>\n",
       "      <td>B</td>\n",
       "    </tr>\n",
       "    <tr>\n",
       "      <th>3</th>\n",
       "      <td>Mouhammed</td>\n",
       "      <td>30</td>\n",
       "      <td>A</td>\n",
       "    </tr>\n",
       "    <tr>\n",
       "      <th>4</th>\n",
       "      <td>Ali</td>\n",
       "      <td>7</td>\n",
       "      <td>A</td>\n",
       "    </tr>\n",
       "  </tbody>\n",
       "</table>\n",
       "</div>"
      ],
      "text/plain": [
       "        Name  Age Mark\n",
       "0        Ali    7    A\n",
       "1      Sahra    8    A\n",
       "2      Ahmad   14    B\n",
       "3  Mouhammed   30    A\n",
       "4        Ali    7    A"
      ]
     },
     "execution_count": 40,
     "metadata": {},
     "output_type": "execute_result"
    }
   ],
   "source": [
    "# فنكشن هيد ياتي ب اول خميس قيم في الداتا و استطيع وضع عدد الصفوف بين الاقواس \n",
    "df.head()"
   ]
  },
  {
   "cell_type": "code",
   "execution_count": 42,
   "id": "completed-report",
   "metadata": {},
   "outputs": [
    {
     "data": {
      "text/plain": [
       "(7, 3)"
      ]
     },
     "execution_count": 42,
     "metadata": {},
     "output_type": "execute_result"
    }
   ],
   "source": [
    "# فنكشن شيب ياتي ب شكل الداتا عدد الصفوف و عدد الاعمده\n",
    "df.shape # 7 rows and 3 columns "
   ]
  },
  {
   "cell_type": "code",
   "execution_count": 43,
   "id": "severe-lightning",
   "metadata": {},
   "outputs": [
    {
     "name": "stdout",
     "output_type": "stream",
     "text": [
      "<class 'pandas.core.frame.DataFrame'>\n",
      "RangeIndex: 7 entries, 0 to 6\n",
      "Data columns (total 3 columns):\n",
      " #   Column  Non-Null Count  Dtype \n",
      "---  ------  --------------  ----- \n",
      " 0   Name    7 non-null      object\n",
      " 1   Age     7 non-null      int64 \n",
      " 2   Mark    7 non-null      object\n",
      "dtypes: int64(1), object(2)\n",
      "memory usage: 296.0+ bytes\n"
     ]
    }
   ],
   "source": [
    "# فنكشن انفو تاتي ب الاعمده و نوع الداتا و معلومات عن الرام وغيرها\n",
    "df.info()"
   ]
  },
  {
   "cell_type": "code",
   "execution_count": 65,
   "id": "confirmed-grass",
   "metadata": {},
   "outputs": [
    {
     "data": {
      "text/plain": [
       "array(['A', 'B', 'D'], dtype=object)"
      ]
     },
     "execution_count": 65,
     "metadata": {},
     "output_type": "execute_result"
    }
   ],
   "source": [
    "#فنكشن يونيك ياتي في القيم الفريده من غير تكرار\n",
    "df[\"Mark\"].unique()"
   ]
  },
  {
   "cell_type": "code",
   "execution_count": 47,
   "id": "military-programmer",
   "metadata": {},
   "outputs": [
    {
     "data": {
      "text/plain": [
       "Name    0\n",
       "Age     0\n",
       "Mark    0\n",
       "dtype: int64"
      ]
     },
     "execution_count": 47,
     "metadata": {},
     "output_type": "execute_result"
    }
   ],
   "source": [
    "#فنكشن از نل ياتي اذا كان لدي قيم مفقوده\n",
    "df.isnull().sum()  # استطيع فحص عامود معين اذا يوجد فيه قيم مفقوده df[\"Name\"].isnull()"
   ]
  },
  {
   "cell_type": "code",
   "execution_count": 48,
   "id": "encouraging-passage",
   "metadata": {},
   "outputs": [
    {
     "data": {
      "text/plain": [
       "1"
      ]
     },
     "execution_count": 48,
     "metadata": {},
     "output_type": "execute_result"
    }
   ],
   "source": [
    "#فنكشند دبلكيشن يفحص اذا هناك تكرار في الداتا\n",
    "df.duplicated().sum()"
   ]
  },
  {
   "cell_type": "code",
   "execution_count": 50,
   "id": "adult-breach",
   "metadata": {},
   "outputs": [
    {
     "data": {
      "text/plain": [
       "Index(['Name', 'Age', 'Mark'], dtype='object')"
      ]
     },
     "execution_count": 50,
     "metadata": {},
     "output_type": "execute_result"
    }
   ],
   "source": [
    "#فنكشن كولوم ياتي في اسماء الاعمده في الداتا\n",
    "df.columns"
   ]
  },
  {
   "cell_type": "code",
   "execution_count": 52,
   "id": "homeless-herald",
   "metadata": {},
   "outputs": [
    {
     "data": {
      "text/html": [
       "<div>\n",
       "<style scoped>\n",
       "    .dataframe tbody tr th:only-of-type {\n",
       "        vertical-align: middle;\n",
       "    }\n",
       "\n",
       "    .dataframe tbody tr th {\n",
       "        vertical-align: top;\n",
       "    }\n",
       "\n",
       "    .dataframe thead th {\n",
       "        text-align: right;\n",
       "    }\n",
       "</style>\n",
       "<table border=\"1\" class=\"dataframe\">\n",
       "  <thead>\n",
       "    <tr style=\"text-align: right;\">\n",
       "      <th></th>\n",
       "      <th>Age</th>\n",
       "    </tr>\n",
       "  </thead>\n",
       "  <tbody>\n",
       "    <tr>\n",
       "      <th>count</th>\n",
       "      <td>7.000000</td>\n",
       "    </tr>\n",
       "    <tr>\n",
       "      <th>mean</th>\n",
       "      <td>11.857143</td>\n",
       "    </tr>\n",
       "    <tr>\n",
       "      <th>std</th>\n",
       "      <td>8.474050</td>\n",
       "    </tr>\n",
       "    <tr>\n",
       "      <th>min</th>\n",
       "      <td>6.000000</td>\n",
       "    </tr>\n",
       "    <tr>\n",
       "      <th>25%</th>\n",
       "      <td>7.000000</td>\n",
       "    </tr>\n",
       "    <tr>\n",
       "      <th>50%</th>\n",
       "      <td>8.000000</td>\n",
       "    </tr>\n",
       "    <tr>\n",
       "      <th>75%</th>\n",
       "      <td>12.500000</td>\n",
       "    </tr>\n",
       "    <tr>\n",
       "      <th>max</th>\n",
       "      <td>30.000000</td>\n",
       "    </tr>\n",
       "  </tbody>\n",
       "</table>\n",
       "</div>"
      ],
      "text/plain": [
       "             Age\n",
       "count   7.000000\n",
       "mean   11.857143\n",
       "std     8.474050\n",
       "min     6.000000\n",
       "25%     7.000000\n",
       "50%     8.000000\n",
       "75%    12.500000\n",
       "max    30.000000"
      ]
     },
     "execution_count": 52,
     "metadata": {},
     "output_type": "execute_result"
    }
   ],
   "source": [
    "#فنكشن دسكرايب ياتي ب وصف ل الداتا الرقميه لدي\n",
    "df.describe() # show the statistics "
   ]
  },
  {
   "cell_type": "code",
   "execution_count": 53,
   "id": "verbal-minnesota",
   "metadata": {},
   "outputs": [
    {
     "data": {
      "text/html": [
       "<div>\n",
       "<style scoped>\n",
       "    .dataframe tbody tr th:only-of-type {\n",
       "        vertical-align: middle;\n",
       "    }\n",
       "\n",
       "    .dataframe tbody tr th {\n",
       "        vertical-align: top;\n",
       "    }\n",
       "\n",
       "    .dataframe thead th {\n",
       "        text-align: right;\n",
       "    }\n",
       "</style>\n",
       "<table border=\"1\" class=\"dataframe\">\n",
       "  <thead>\n",
       "    <tr style=\"text-align: right;\">\n",
       "      <th></th>\n",
       "      <th>Name</th>\n",
       "      <th>Age</th>\n",
       "      <th>Mark</th>\n",
       "    </tr>\n",
       "  </thead>\n",
       "  <tbody>\n",
       "    <tr>\n",
       "      <th>2</th>\n",
       "      <td>Ahmad</td>\n",
       "      <td>14</td>\n",
       "      <td>B</td>\n",
       "    </tr>\n",
       "  </tbody>\n",
       "</table>\n",
       "</div>"
      ],
      "text/plain": [
       "    Name  Age Mark\n",
       "2  Ahmad   14    B"
      ]
     },
     "execution_count": 53,
     "metadata": {},
     "output_type": "execute_result"
    }
   ],
   "source": [
    "# استيطع عمل فلتر على اسم معي او اكثر من اسم\n",
    "df[df[\"Name\"]== \"Ahmad\"]"
   ]
  },
  {
   "cell_type": "code",
   "execution_count": 59,
   "id": "genetic-sending",
   "metadata": {},
   "outputs": [
    {
     "name": "stdout",
     "output_type": "stream",
     "text": [
      "The Max Age :  30\n",
      "The Min Age :  6\n",
      "The Avg Age :  11.857142857142858\n",
      "The Total Age :  83\n"
     ]
    }
   ],
   "source": [
    "#يمكن استخدام فنكشن الخاصه في المعلومات الاحصائيه\n",
    "print (\"The Max Age : \", df[\"Age\"].max())\n",
    "print (\"The Min Age : \", df[\"Age\"].min())\n",
    "print (\"The Avg Age : \", df[\"Age\"].mean())\n",
    "print (\"The Total Age : \", df[\"Age\"].sum())"
   ]
  },
  {
   "cell_type": "markdown",
   "id": "golden-cornwall",
   "metadata": {},
   "source": [
    "#### Drop   الحذف"
   ]
  },
  {
   "cell_type": "code",
   "execution_count": 60,
   "id": "domestic-italy",
   "metadata": {},
   "outputs": [
    {
     "data": {
      "text/html": [
       "<div>\n",
       "<style scoped>\n",
       "    .dataframe tbody tr th:only-of-type {\n",
       "        vertical-align: middle;\n",
       "    }\n",
       "\n",
       "    .dataframe tbody tr th {\n",
       "        vertical-align: top;\n",
       "    }\n",
       "\n",
       "    .dataframe thead th {\n",
       "        text-align: right;\n",
       "    }\n",
       "</style>\n",
       "<table border=\"1\" class=\"dataframe\">\n",
       "  <thead>\n",
       "    <tr style=\"text-align: right;\">\n",
       "      <th></th>\n",
       "      <th>Age</th>\n",
       "      <th>Mark</th>\n",
       "    </tr>\n",
       "  </thead>\n",
       "  <tbody>\n",
       "    <tr>\n",
       "      <th>0</th>\n",
       "      <td>7</td>\n",
       "      <td>A</td>\n",
       "    </tr>\n",
       "    <tr>\n",
       "      <th>1</th>\n",
       "      <td>8</td>\n",
       "      <td>A</td>\n",
       "    </tr>\n",
       "    <tr>\n",
       "      <th>2</th>\n",
       "      <td>14</td>\n",
       "      <td>B</td>\n",
       "    </tr>\n",
       "    <tr>\n",
       "      <th>3</th>\n",
       "      <td>30</td>\n",
       "      <td>A</td>\n",
       "    </tr>\n",
       "    <tr>\n",
       "      <th>4</th>\n",
       "      <td>7</td>\n",
       "      <td>A</td>\n",
       "    </tr>\n",
       "    <tr>\n",
       "      <th>5</th>\n",
       "      <td>6</td>\n",
       "      <td>D</td>\n",
       "    </tr>\n",
       "    <tr>\n",
       "      <th>6</th>\n",
       "      <td>11</td>\n",
       "      <td>A</td>\n",
       "    </tr>\n",
       "  </tbody>\n",
       "</table>\n",
       "</div>"
      ],
      "text/plain": [
       "   Age Mark\n",
       "0    7    A\n",
       "1    8    A\n",
       "2   14    B\n",
       "3   30    A\n",
       "4    7    A\n",
       "5    6    D\n",
       "6   11    A"
      ]
     },
     "execution_count": 60,
     "metadata": {},
     "output_type": "execute_result"
    }
   ],
   "source": [
    "# Drop\n",
    "#استطيع حذف اعمده او صفوف او قيم مفقوده او قيم مكرره\n",
    "\n",
    "#drop column\n",
    "df.drop(columns= \"Name\") # تم حذف عامود الاسم لكن يحفظ في الداتا الا اذا عملت انبلس صح  'inplace =True' than the change will be save"
   ]
  },
  {
   "cell_type": "code",
   "execution_count": 61,
   "id": "cleared-escape",
   "metadata": {},
   "outputs": [
    {
     "data": {
      "text/html": [
       "<div>\n",
       "<style scoped>\n",
       "    .dataframe tbody tr th:only-of-type {\n",
       "        vertical-align: middle;\n",
       "    }\n",
       "\n",
       "    .dataframe tbody tr th {\n",
       "        vertical-align: top;\n",
       "    }\n",
       "\n",
       "    .dataframe thead th {\n",
       "        text-align: right;\n",
       "    }\n",
       "</style>\n",
       "<table border=\"1\" class=\"dataframe\">\n",
       "  <thead>\n",
       "    <tr style=\"text-align: right;\">\n",
       "      <th></th>\n",
       "      <th>Name</th>\n",
       "      <th>Age</th>\n",
       "      <th>Mark</th>\n",
       "    </tr>\n",
       "  </thead>\n",
       "  <tbody>\n",
       "    <tr>\n",
       "      <th>0</th>\n",
       "      <td>Ali</td>\n",
       "      <td>7</td>\n",
       "      <td>A</td>\n",
       "    </tr>\n",
       "    <tr>\n",
       "      <th>1</th>\n",
       "      <td>Sahra</td>\n",
       "      <td>8</td>\n",
       "      <td>A</td>\n",
       "    </tr>\n",
       "    <tr>\n",
       "      <th>2</th>\n",
       "      <td>Ahmad</td>\n",
       "      <td>14</td>\n",
       "      <td>B</td>\n",
       "    </tr>\n",
       "    <tr>\n",
       "      <th>3</th>\n",
       "      <td>Mouhammed</td>\n",
       "      <td>30</td>\n",
       "      <td>A</td>\n",
       "    </tr>\n",
       "    <tr>\n",
       "      <th>5</th>\n",
       "      <td>Sahra</td>\n",
       "      <td>6</td>\n",
       "      <td>D</td>\n",
       "    </tr>\n",
       "    <tr>\n",
       "      <th>6</th>\n",
       "      <td>Ali</td>\n",
       "      <td>11</td>\n",
       "      <td>A</td>\n",
       "    </tr>\n",
       "  </tbody>\n",
       "</table>\n",
       "</div>"
      ],
      "text/plain": [
       "        Name  Age Mark\n",
       "0        Ali    7    A\n",
       "1      Sahra    8    A\n",
       "2      Ahmad   14    B\n",
       "3  Mouhammed   30    A\n",
       "5      Sahra    6    D\n",
       "6        Ali   11    A"
      ]
     },
     "execution_count": 61,
     "metadata": {},
     "output_type": "execute_result"
    }
   ],
   "source": [
    "# حذف القيم المكرره\n",
    "df.drop_duplicates() # تم حذف الصفوف المكرره لكن يحفظ في الداتا الا اذا عملت انبلس صح 'inplace =True' than the change will be save"
   ]
  },
  {
   "cell_type": "code",
   "execution_count": 62,
   "id": "premier-visibility",
   "metadata": {
    "scrolled": true
   },
   "outputs": [
    {
     "data": {
      "text/html": [
       "<div>\n",
       "<style scoped>\n",
       "    .dataframe tbody tr th:only-of-type {\n",
       "        vertical-align: middle;\n",
       "    }\n",
       "\n",
       "    .dataframe tbody tr th {\n",
       "        vertical-align: top;\n",
       "    }\n",
       "\n",
       "    .dataframe thead th {\n",
       "        text-align: right;\n",
       "    }\n",
       "</style>\n",
       "<table border=\"1\" class=\"dataframe\">\n",
       "  <thead>\n",
       "    <tr style=\"text-align: right;\">\n",
       "      <th></th>\n",
       "      <th>Name</th>\n",
       "      <th>Age</th>\n",
       "      <th>Mark</th>\n",
       "    </tr>\n",
       "  </thead>\n",
       "  <tbody>\n",
       "    <tr>\n",
       "      <th>0</th>\n",
       "      <td>Ali</td>\n",
       "      <td>7</td>\n",
       "      <td>A</td>\n",
       "    </tr>\n",
       "    <tr>\n",
       "      <th>1</th>\n",
       "      <td>Sahra</td>\n",
       "      <td>8</td>\n",
       "      <td>A</td>\n",
       "    </tr>\n",
       "    <tr>\n",
       "      <th>2</th>\n",
       "      <td>Ahmad</td>\n",
       "      <td>14</td>\n",
       "      <td>B</td>\n",
       "    </tr>\n",
       "    <tr>\n",
       "      <th>3</th>\n",
       "      <td>Mouhammed</td>\n",
       "      <td>30</td>\n",
       "      <td>A</td>\n",
       "    </tr>\n",
       "    <tr>\n",
       "      <th>4</th>\n",
       "      <td>Ali</td>\n",
       "      <td>7</td>\n",
       "      <td>A</td>\n",
       "    </tr>\n",
       "    <tr>\n",
       "      <th>5</th>\n",
       "      <td>Sahra</td>\n",
       "      <td>6</td>\n",
       "      <td>D</td>\n",
       "    </tr>\n",
       "    <tr>\n",
       "      <th>6</th>\n",
       "      <td>Ali</td>\n",
       "      <td>11</td>\n",
       "      <td>A</td>\n",
       "    </tr>\n",
       "  </tbody>\n",
       "</table>\n",
       "</div>"
      ],
      "text/plain": [
       "        Name  Age Mark\n",
       "0        Ali    7    A\n",
       "1      Sahra    8    A\n",
       "2      Ahmad   14    B\n",
       "3  Mouhammed   30    A\n",
       "4        Ali    7    A\n",
       "5      Sahra    6    D\n",
       "6        Ali   11    A"
      ]
     },
     "execution_count": 62,
     "metadata": {},
     "output_type": "execute_result"
    }
   ],
   "source": [
    "#حذف القيم المفقوده \n",
    "df.dropna()"
   ]
  },
  {
   "cell_type": "code",
   "execution_count": 68,
   "id": "continent-distinction",
   "metadata": {},
   "outputs": [
    {
     "data": {
      "text/plain": [
       "0     7\n",
       "1     8\n",
       "2    14\n",
       "3    30\n",
       "4     7\n",
       "5     6\n",
       "6    11\n",
       "Name: Age, dtype: int64"
      ]
     },
     "execution_count": 68,
     "metadata": {},
     "output_type": "execute_result"
    }
   ],
   "source": [
    "# استطيع تعبئه القيم المفقوده\n",
    "df[\"Age\"].fillna(5) # لا يوجد في الداتا قيم مفقوده لكن اذا كان يوجد سوف تملى برقم 5 او اي رقم انت تختاره"
   ]
  },
  {
   "cell_type": "markdown",
   "id": "coupled-street",
   "metadata": {},
   "source": [
    "#### Group by   جروب "
   ]
  },
  {
   "cell_type": "code",
   "execution_count": 64,
   "id": "painful-emission",
   "metadata": {},
   "outputs": [
    {
     "data": {
      "text/plain": [
       "Mark\n",
       "A    12.6\n",
       "B    14.0\n",
       "D     6.0\n",
       "Name: Age, dtype: float64"
      ]
     },
     "execution_count": 64,
     "metadata": {},
     "output_type": "execute_result"
    }
   ],
   "source": [
    "# من خلال مكتبه بانداس تسطيع عمل جروب حسب عامود معين\n",
    "# هنا اريد عمل جروب على العلامه مع متوسط العمر\n",
    "df.groupby(\"Mark\")[\"Age\"].mean()"
   ]
  },
  {
   "cell_type": "markdown",
   "id": "accessory-disposal",
   "metadata": {},
   "source": [
    "### استيراد و تصدير البيانات\n"
   ]
  },
  {
   "cell_type": "markdown",
   "id": "foster-auditor",
   "metadata": {},
   "source": [
    "* مكتبه بانداس تدعم الكثير من المصادر ل استيراد البيانات مثل الاكسل او الويب او قواعد البيانات وغيرها الكثير ..."
   ]
  },
  {
   "cell_type": "code",
   "execution_count": 69,
   "id": "informal-session",
   "metadata": {},
   "outputs": [],
   "source": [
    "# استيراد داتا من ملف سي اس في اولا عرف متغير مثل دي اف و اكتب الفنكش التالي\n",
    "\n",
    "# df = pd.read_csv(\"مكان الملف او اسمه اذا كان مرفوع على جبيتور.csv\")\n",
    "\n",
    "\n",
    "\n",
    "#بعد رفع الداتا تسطيع عمل التحليل وفحص البيانات وكل الخطوات السابقه و اكثر \n",
    "\n",
    "# تصدير البيانات\n",
    "\n",
    "#اذا اجريت تعديل على البيانات او تم استيراد البيانات من الويب او اي مصدر وتريد تصدير البيانات يمكن من خلال الفنكش \n",
    "\n",
    "#df.to_csv()  the name like df.to_csv(\"new name\") اسم الداتا "
   ]
  },
  {
   "cell_type": "markdown",
   "id": "outstanding-philosophy",
   "metadata": {},
   "source": [
    "* اذا كان لدي اي سؤال تواصل معنا  : Qusay AL-Btoush\n",
    "\n",
    "* [https://github.com/qusaybtoush](http://)\n",
    "* [https://www.linkedin.com/in/qusayal-btoush/](http://)\n",
    "* [https://www.kaggle.com/qusaybtoush1990](http://)\n"
   ]
  },
  {
   "cell_type": "code",
   "execution_count": null,
   "id": "nonprofit-tracy",
   "metadata": {},
   "outputs": [],
   "source": []
  }
 ],
 "metadata": {
  "kernelspec": {
   "display_name": "Python 3",
   "language": "python",
   "name": "python3"
  },
  "language_info": {
   "codemirror_mode": {
    "name": "ipython",
    "version": 3
   },
   "file_extension": ".py",
   "mimetype": "text/x-python",
   "name": "python",
   "nbconvert_exporter": "python",
   "pygments_lexer": "ipython3",
   "version": "3.8.5"
  }
 },
 "nbformat": 4,
 "nbformat_minor": 5
}
